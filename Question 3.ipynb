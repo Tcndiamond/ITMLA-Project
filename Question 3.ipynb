{
 "cells": [
  {
   "cell_type": "code",
   "execution_count": 2,
   "metadata": {},
   "outputs": [],
   "source": [
    "import os\n",
    "import cv2\n",
    "import numpy as np\n",
    "import matplotlib.pyplot as plt\n",
    "from sklearn.model_selection import train_test_split\n",
    "from sklearn.preprocessing import StandardScaler\n",
    "from sklearn.ensemble import RandomForestClassifier\n",
    "from sklearn.metrics import classification_report\n",
    "\n",
    "folder_defective = \"C:\\\\Users\\\\Conqu\\\\OneDrive\\\\Documents\\\\Conquerant Folder\\\\Conquerant - Document & Pictures\\\\Modules\\\\Robotics Third Year\\\\ITMLA3-B11\\\\Project\\\\Project Dataset\\\\CONCRETE CRACKS\\\\Defective\"\n",
    "folder_defectless = \"C:\\\\Users\\\\Conqu\\\\OneDrive\\\\Documents\\\\Conquerant Folder\\\\Conquerant - Document & Pictures\\\\Modules\\\\Robotics Third Year\\\\ITMLA3-B11\\\\Project\\\\Project Dataset\\\\CONCRETE CRACKS\\\\Defectless\"\n",
    "\n",
    "def load_images_from_folder(folder, label):\n",
    "    images = []\n",
    "    labels = []\n",
    "    count = 0\n",
    "\n",
    "    for filename in os.listdir(folder):\n",
    "        img_path = os.path.join(folder, filename)\n",
    "        img = cv2.imread(img_path, cv2.IMREAD_GRAYSCALE)  # Load image in grayscale\n",
    "\n",
    "        if img is not None:\n",
    "            images.append(img)\n",
    "            labels.append(label)\n",
    "            count += 1\n",
    "            print(count)\n",
    "\n",
    "    print(count, \"labeled as\", label)\n",
    "    return images, labels\n",
    "\n",
    "defective_images, defective_labels = load_images_from_folder(folder_defective, label=\"defective\")\n",
    "defectless_images, defectless_labels = load_images_from_folder(folder_defectless, label=\"defectless\")\n"
   ]
  },
  {
   "cell_type": "code",
   "execution_count": null,
   "metadata": {},
   "outputs": [],
   "source": []
  },
  {
   "cell_type": "code",
   "execution_count": null,
   "metadata": {},
   "outputs": [],
   "source": []
  },
  {
   "cell_type": "code",
   "execution_count": null,
   "metadata": {},
   "outputs": [],
   "source": []
  },
  {
   "cell_type": "code",
   "execution_count": null,
   "metadata": {},
   "outputs": [],
   "source": []
  }
 ],
 "metadata": {
  "kernelspec": {
   "display_name": "RVC3",
   "language": "python",
   "name": "python3"
  },
  "language_info": {
   "codemirror_mode": {
    "name": "ipython",
    "version": 3
   },
   "file_extension": ".py",
   "mimetype": "text/x-python",
   "name": "python",
   "nbconvert_exporter": "python",
   "pygments_lexer": "ipython3",
   "version": "3.8.18"
  }
 },
 "nbformat": 4,
 "nbformat_minor": 2
}
